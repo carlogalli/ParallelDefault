{
 "cells": [
  {
   "cell_type": "code",
   "execution_count": null,
   "metadata": {},
   "outputs": [],
   "source": [
    "using Random, Distributions\n",
    "using CUDA\n",
    "using BenchmarkTools, Base.Threads\n"
   ]
  },
  {
   "cell_type": "code",
   "execution_count": 3,
   "metadata": {},
   "outputs": [
    {
     "data": {
      "text/plain": [
       "1"
      ]
     },
     "execution_count": 3,
     "metadata": {},
     "output_type": "execute_result"
    }
   ],
   "source": [
    "#Initialization\n",
    "\n",
    "#-----\n",
    "#First Intialze the kernels\n",
    "\n",
    "#tauchen method for creating conditional probability matrix\n",
    "function tauchen(ρ, σ, Ny, P)\n",
    "    #Create equally spaced pts to fill into Z\n",
    "    σ_z = sqrt((σ^2)/(1-ρ^2))\n",
    "    Step = 10*σ_z/(Ny-1)\n",
    "    Z = -5*σ_z:Step:5*σ_z\n",
    "\n",
    "    #Fill in entries of 1~ny, ny*(ny-1)~ny^2\n",
    "    for z in 1:Ny\n",
    "        P[z,1] = cdf(Normal(), (Z[1]-ρ*Z[z] + Step/2)/σ)\n",
    "        P[z,Ny] = 1 - cdf(Normal(),(Z[Ny] - ρ*Z[z] - Step/2)/σ)\n",
    "    end\n",
    "\n",
    "    #Fill in the middle part\n",
    "    for z in 1:Ny\n",
    "        for iz in 2:(Ny-1)\n",
    "            P[z,iz] = cdf(Normal(), (Z[iz]-ρ*Z[z]+Step/2)/σ) - cdf(Normal(), (Z[iz]-ρ*Z[z]-Step/2)/σ)\n",
    "        end\n",
    "    end\n",
    "end\n",
    "\n",
    "#Setting parameters\n",
    "Ny = 50 #grid number of endowment\n",
    "Nb = 50 #grid number of bond\n",
    "maxInd = Ny * Nb #total grid points\n",
    "rstar = 0.017 #r* used in price calculation\n",
    "α = Float32(0.5) #α used in utility function\n",
    "\n",
    "#lower bound and upper bound for bond initialization\n",
    "lbd = -1\n",
    "ubd = 0\n",
    "\n",
    "#β,ϕ,τ used as in part 4 of original paper\n",
    "β = 0.953\n",
    "ϕ = 0.282\n",
    "τ = 0.5\n",
    "\n",
    "δ = 0.8 #weighting average of new and old matrixs\n",
    "\n",
    "#ρ,σ For tauchen method\n",
    "ρ = 0.9\n",
    "σ = 0.025\n",
    "\n",
    "\n",
    "#Initializing Bond matrix\n",
    "minB = lbd\n",
    "maxB = ubd\n",
    "step = (maxB-minB) / (Nb-1)\n",
    "B = CuArray(minB:step:maxB) #Bond\n",
    "\n",
    "#Intitializing Endowment matrix\n",
    "σ_z = sqrt((σ^2)/(1-ρ^2))\n",
    "Step = 10*σ_z/(Ny-1)\n",
    "Y = CuArray(-5*σ_z:Step:5*σ_z) #Endowment\n",
    "\n",
    "Pcpu = zeros(Ny,Ny)  #Conditional probability matrix\n",
    "V = CUDA.fill(1/((1-β)*(1-α)), Ny, Nb) #Value\n",
    "Price = CUDA.fill(1/(1+rstar), Ny, Nb) #Debt price\n",
    "Vr = CUDA.zeros(Ny, Nb) #Value of good standing\n",
    "Vd = CUDA.zeros(Ny) #Value of default\n",
    "decision = CUDA.ones(Ny, Nb) #Decision matrix\n",
    "C = CUDA.zeros(Ny,Nb,Nb)\n",
    "VR = CUDA.zeros(Ny,Nb,Nb)\n",
    "sumret = CUDA.zeros(Ny,Nb,Nb)\n",
    "\n",
    "#U(x) = x^(1-α) / (1-α) #Utility function, change this into a function\n",
    "function U(x)\n",
    "    if x >= 0\n",
    "        return x^(1-α) / (1-α) #Utility function7\n",
    "    end\n",
    "    return 0\n",
    "end\n",
    "function U2(x)\n",
    "    return (x>0) * (x+0im)^(1-α) / (1-α)\n",
    "end\n",
    "#U2.(C)\n",
    "\n",
    "#Initialize Conditional Probability matrix\n",
    "tauchen(ρ, σ, Ny, Pcpu)\n",
    "P = CUDA.zeros(Ny,Ny)\n",
    "copyto!(P,Pcpu) ####Takes long time\n",
    "\n",
    "\n",
    "err = 2000 #error\n",
    "tol = 1e-3 #error toleration\n",
    "iter = 0\n",
    "maxIter = 500 #Maximum interation\n",
    "\n",
    "V0 = CUDA.deepcopy(V)\n",
    "Vd0 = CUDA.deepcopy(Vd)\n",
    "Price0 = CUDA.deepcopy(Price)\n",
    "prob = CUDA.zeros(Ny,Nb)\n",
    "decision = CUDA.ones(Ny,Nb)\n",
    "decision0 = CUDA.deepcopy(decision)\n",
    "C = CUDA.zeros(Ny,Nb,Nb)\n",
    "#We set up C2, sumret and sumdef in device memory\n",
    "sumret = CUDA.zeros(Ny,Nb,Nb)\n",
    "sumdef = CUDA.zeros(Ny)\n",
    "C2 = CUDA.zeros(Ny,Nb,Nb)\n",
    "\n",
    "threadcount = (16,16) #set up defualt thread numbers per block\n",
    "blockcount = (ceil(Int,Ny/10),ceil(Int,Ny/10))\n",
    "iy = 1\n",
    "ib = 1\n"
   ]
  },
  {
   "cell_type": "code",
   "execution_count": 5,
   "metadata": {},
   "outputs": [
    {
     "data": {
      "text/plain": [
       "50"
      ]
     },
     "execution_count": 5,
     "metadata": {},
     "output_type": "execute_result"
    }
   ],
   "source": []
  }
 ],
 "metadata": {
  "kernelspec": {
   "display_name": "Julia 1.4.2",
   "language": "julia",
   "name": "julia-1.4"
  },
  "language_info": {
   "file_extension": ".jl",
   "mimetype": "application/julia",
   "name": "julia",
   "version": "1.4.2"
  }
 },
 "nbformat": 4,
 "nbformat_minor": 4
}
